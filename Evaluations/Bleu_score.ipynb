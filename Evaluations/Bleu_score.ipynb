{
 "cells": [
  {
   "cell_type": "markdown",
   "metadata": {},
   "source": [
    "# Blue score evaluation\n",
    "\n",
    "\n",
    "BLEU (bilingual evaluation understudy) is an algorithm for evaluating the quality of text which has been machine-translated from one natural language to another. The scores are calculated for individual segments by comparing them with a set of good quality reference translations. Those scores are then averaged over the whole corpus to reach an estimate of the translation's overall quality. Intelligibility or grammatical correctness are not taken into account.\n",
    "\n",
    "Here we are using it to estimate the quality of the music generated. By analogy, we are comparing the different n_grams of the music language generated to some set of existing music from Mozard. What this metric is able to evaluate is whether or not the combinations of notes used in the generated melodies are common combinations, and therefore used in references sets.\n",
    "\n",
    "To get an idea of what would be a good BLEU score in our situation, we can calculate is value for real Mozard piece that does not belong to the references. "
   ]
  },
  {
   "cell_type": "code",
   "execution_count": 10,
   "metadata": {},
   "outputs": [],
   "source": [
    "from nltk.translate.bleu_score import sentence_bleu\n",
    "from bleu import *\n",
    "import numpy as np\n",
    "import matplotlib.pyplot as plt"
   ]
  },
  {
   "cell_type": "markdown",
   "metadata": {},
   "source": [
    "We load the the reference music sheets and then the generated sheet that we want to evaluate."
   ]
  },
  {
   "cell_type": "code",
   "execution_count": 6,
   "metadata": {},
   "outputs": [],
   "source": [
    "output = open(\"result_epoch082_batch100.txt\", \"r\")\n",
    "lines_o = output.readlines()\n",
    "out_lstm = str(lines_o[0]).split()"
   ]
  },
  {
   "cell_type": "code",
   "execution_count": 1,
   "metadata": {},
   "outputs": [],
   "source": [
    "mozart_data = 'mozart.txt'\n",
    "\n",
    "with open(mozart_data, 'r') as file:\n",
    "    text = file.read()"
   ]
  },
  {
   "cell_type": "code",
   "execution_count": 2,
   "metadata": {},
   "outputs": [],
   "source": [
    "ref = text.split()"
   ]
  },
  {
   "cell_type": "code",
   "execution_count": 3,
   "metadata": {},
   "outputs": [
    {
     "data": {
      "text/plain": [
       "11357011"
      ]
     },
     "execution_count": 3,
     "metadata": {},
     "output_type": "execute_result"
    }
   ],
   "source": [
    "len(ref)"
   ]
  },
  {
   "cell_type": "code",
   "execution_count": 5,
   "metadata": {},
   "outputs": [
    {
     "data": {
      "text/plain": [
       "1000000"
      ]
     },
     "execution_count": 5,
     "metadata": {},
     "output_type": "execute_result"
    }
   ],
   "source": [
    "ref0 = ref[:10**6]\n",
    "len(ref0)"
   ]
  },
  {
   "cell_type": "markdown",
   "metadata": {},
   "source": [
    "Preprocessing to have same lenght sheet that can be compared using BLEU score:"
   ]
  },
  {
   "cell_type": "markdown",
   "metadata": {},
   "source": [
    "Cumulative Bleu scores evaluation for 1-gram to 9-gram."
   ]
  },
  {
   "cell_type": "code",
   "execution_count": 26,
   "metadata": {},
   "outputs": [
    {
     "name": "stdout",
     "output_type": "stream",
     "text": [
      "Cumulative 1-gram: 1.000000\n",
      "Cumulative 2-gram: 0.939581\n",
      "Cumulative 3-gram: 0.806789\n",
      "Cumulative 4-gram: 0.639025\n",
      "Cumulative 5-gram: 0.520844\n",
      "Cumulative 6-gram: 0.445778\n",
      "Cumulative 7-gram: 0.392063\n",
      "Cumulative 8-gram: 0.351070\n",
      "Cumulative 9-gram: 0.316123\n"
     ]
    }
   ],
   "source": [
    "print('Cumulative 1-gram: %f' % sentence_bleu([ref[i] for i in range(len(ref0))], out_lstm, weights=(1, 0, 0, 0)))\n",
    "print('Cumulative 2-gram: %f' % sentence_bleu([ref[i] for i in range(len(ref0))], out_lstm, weights=(0.5, 0.5, 0, 0)))\n",
    "print('Cumulative 3-gram: %f' % sentence_bleu([ref[i] for i in range(len(ref0))], out_lstm, weights=(0.33, 0.33, 0.33, 0)))\n",
    "print('Cumulative 4-gram: %f' % sentence_bleu([ref[i] for i in range(len(ref0))], out_lstm, weights=(0.25, 0.25, 0.25, 0.25)))\n",
    "print('Cumulative 5-gram: %f' % sentence_bleu([ref[i] for i in range(len(ref0))], out_lstm, weights=(1/5, 1/5, 1/5, 1/5, 1/5)))\n",
    "print('Cumulative 6-gram: %f' % sentence_bleu([ref[i] for i in range(len(ref0))], out_lstm, weights=(1/6, 1/6, 1/6, 1/6, 1/6, 1/6)))\n",
    "print('Cumulative 7-gram: %f' % sentence_bleu([ref[i] for i in range(len(ref0))], out_lstm, weights=(1/7, 1/7, 1/7, 1/7, 1/7, 1/7, 1/7)))\n",
    "print('Cumulative 8-gram: %f' % sentence_bleu([ref[i] for i in range(len(ref0))], out_lstm, weights=(1/8, 1/8, 1/8, 1/8, 1/8, 1/8, 1/8, 1/8)))\n",
    "print('Cumulative 9-gram: %f' % sentence_bleu([ref[i] for i in range(len(ref0))], out_lstm, weights=(1/9, 1/9, 1/9, 1/9, 1/9, 1/9, 1/9, 1/9, 1/9)))"
   ]
  },
  {
   "cell_type": "markdown",
   "metadata": {},
   "source": [
    "To have a better metric, we can weight differently the n_grams. We expect 1-gram BLEU score to be equal to 1 as by using a sufficiently large reference corpus all the notes available are going to be used. Therefore, we can input a smaller weight to small grams, then a higher weights for higher grams and at end diminishing the weight again for very large grams (8-9) for the sake of diversity.\n",
    "\n",
    "Weigths proposal:\n",
    "- 1-gram: 0\n",
    "- 2-gram: 1/12\n",
    "- 3-gram: 1/12\n",
    "- 4-gram: 1/6\n",
    "- 5-gram: 1/6\n",
    "- 6-gram: 1/6\n",
    "- 7-gram: 1/6\n",
    "- 8-gram: 1/12\n",
    "- 9-gram: 1/12"
   ]
  },
  {
   "cell_type": "code",
   "execution_count": 27,
   "metadata": {},
   "outputs": [
    {
     "name": "stdout",
     "output_type": "stream",
     "text": [
      "Customized cumulative 9-gram: 0.257768\n"
     ]
    }
   ],
   "source": [
    "print('Customized cumulative 9-gram: %f' % sentence_bleu([ref[i] for i in range(len(ref))], out_lstm, weights=(0, 1/12, 1/12, 1/6, 1/6, 1/6, 1/6, 1/12, 1/12)))"
   ]
  },
  {
   "cell_type": "markdown",
   "metadata": {},
   "source": [
    "To make sense of how good is this value, let's evaluate an unseen real Mozard composition."
   ]
  },
  {
   "cell_type": "code",
   "execution_count": 29,
   "metadata": {},
   "outputs": [
    {
     "name": "stdout",
     "output_type": "stream",
     "text": [
      "Customized cumulative 9-gram: 0.131086\n"
     ]
    }
   ],
   "source": [
    "unseen = open(\"wamk576.txt\", \"r\")\n",
    "lines_um = unseen.readlines()\n",
    "unseen_moz = str(lines_um[0]).split()[:len(out_lstm)]\n",
    "\n",
    "print('Customized cumulative 9-gram: %f' % sentence_bleu([ref[i] for i in range(len(ref))], unseen_moz, weights=(0, 1/12, 1/12, 1/6, 1/6, 1/6, 1/6, 1/12, 1/12)))"
   ]
  },
  {
   "cell_type": "markdown",
   "metadata": {},
   "source": [
    "It seems promizing, let's compute more general statistics by averaging the score of 20 predictions and the of 20 unseen references."
   ]
  },
  {
   "cell_type": "code",
   "execution_count": 31,
   "metadata": {},
   "outputs": [
    {
     "name": "stderr",
     "output_type": "stream",
     "text": [
      "/jet/var/python/lib/python3.6/site-packages/nltk/translate/bleu_score.py:523: UserWarning: \n",
      "The hypothesis contains 0 counts of 9-gram overlaps.\n",
      "Therefore the BLEU score evaluates to 0, independently of\n",
      "how many N-gram overlaps of lower order it contains.\n",
      "Consider using lower n-gram order or use SmoothingFunction()\n",
      "  warnings.warn(_msg)\n"
     ]
    }
   ],
   "source": [
    "bleu_lstm = []\n",
    "for i in range(1, 20):\n",
    "    text_file = open(\"lstm/lstm{}.txt\".format(i), \"r\")\n",
    "    lines = text_file.readlines()\n",
    "    lstm_pred = str(lines[0]).split()\n",
    "    bleu_lstm.append(sentence_bleu([ref[i] for i in range(len(ref))], lstm_pred, weights=(0, 1/12, 1/12, 1/6, 1/6, 1/6, 1/6, 1/12, 1/12)))"
   ]
  },
  {
   "cell_type": "code",
   "execution_count": 34,
   "metadata": {},
   "outputs": [
    {
     "data": {
      "text/plain": [
       "0.20939451370376708"
      ]
     },
     "execution_count": 34,
     "metadata": {},
     "output_type": "execute_result"
    }
   ],
   "source": [
    "np.mean(bleu_lstm)"
   ]
  },
  {
   "cell_type": "code",
   "execution_count": 66,
   "metadata": {},
   "outputs": [
    {
     "data": {
      "text/plain": [
       "513"
      ]
     },
     "execution_count": 66,
     "metadata": {},
     "output_type": "execute_result"
    }
   ],
   "source": [
    "len(out_lstm)"
   ]
  },
  {
   "cell_type": "code",
   "execution_count": 53,
   "metadata": {},
   "outputs": [
    {
     "data": {
      "image/png": "[encoded data removed]",
      "text/plain": [
       "<Figure size 1440x864 with 1 Axes>"
      ]
     },
     "metadata": {},
     "output_type": "display_data"
    }
   ],
   "source": [
    "with plt.style.context('bmh'):\n",
    "    plt.figure(figsize=(20,12))\n",
    "    index = np.arange(19)\n",
    "    label = ['Prediction{}'.format(i) for i in range(19)]\n",
    "    plt.bar(index, bleu_lstm)\n",
    "    plt.xlabel('Predictions', fontsize=20)\n",
    "    plt.ylabel('Bleu score', fontsize=20)\n",
    "    plt.xticks(np.arange(19), label, fontsize=15, rotation=30)\n",
    "    plt.plot(index, [np.mean(bleu_lstm) for i in range(19)], color='r')\n",
    "    plt.title('Bleu score for 20 predictions of the LSTM', size=25)\n",
    "    plt.legend(['Mean Bleu score'], prop={'size': 22})\n",
    "    plt.show()"
   ]
  },
  {
   "cell_type": "code",
   "execution_count": null,
   "metadata": {},
   "outputs": [],
   "source": []
  },
  {
   "cell_type": "markdown",
   "metadata": {},
   "source": [
    "Let's do the same for real Mozard sheet."
   ]
  },
  {
   "cell_type": "code",
   "execution_count": 57,
   "metadata": {},
   "outputs": [
    {
     "name": "stderr",
     "output_type": "stream",
     "text": [
      "/jet/var/python/lib/python3.6/site-packages/nltk/translate/bleu_score.py:523: UserWarning: \n",
      "The hypothesis contains 0 counts of 9-gram overlaps.\n",
      "Therefore the BLEU score evaluates to 0, independently of\n",
      "how many N-gram overlaps of lower order it contains.\n",
      "Consider using lower n-gram order or use SmoothingFunction()\n",
      "  warnings.warn(_msg)\n",
      "/jet/var/python/lib/python3.6/site-packages/nltk/translate/bleu_score.py:523: UserWarning: \n",
      "The hypothesis contains 0 counts of 8-gram overlaps.\n",
      "Therefore the BLEU score evaluates to 0, independently of\n",
      "how many N-gram overlaps of lower order it contains.\n",
      "Consider using lower n-gram order or use SmoothingFunction()\n",
      "  warnings.warn(_msg)\n"
     ]
    }
   ],
   "source": [
    "bleu_moz = []\n",
    "text_file = open(\"unseen/us1.txt\", \"r\")\n",
    "lines = text_file.readlines()\n",
    "moz_us = str(lines[0]).split()\n",
    "while i<20*len(ref[0]):\n",
    "    sheet = moz_us[i: i+len(ref[0])]\n",
    "    bleu_moz.append(sentence_bleu([ref[i] for i in range(len(ref))], sheet, weights=(0, 1/12, 1/12, 1/6, 1/6, 1/6, 1/6, 1/12, 1/12)))\n",
    "    i+=len(ref[0])"
   ]
  },
  {
   "cell_type": "code",
   "execution_count": 69,
   "metadata": {},
   "outputs": [
    {
     "name": "stderr",
     "output_type": "stream",
     "text": [
      "/jet/var/python/lib/python3.6/site-packages/nltk/translate/bleu_score.py:523: UserWarning: \n",
      "The hypothesis contains 0 counts of 7-gram overlaps.\n",
      "Therefore the BLEU score evaluates to 0, independently of\n",
      "how many N-gram overlaps of lower order it contains.\n",
      "Consider using lower n-gram order or use SmoothingFunction()\n",
      "  warnings.warn(_msg)\n",
      "/jet/var/python/lib/python3.6/site-packages/nltk/translate/bleu_score.py:523: UserWarning: \n",
      "The hypothesis contains 0 counts of 8-gram overlaps.\n",
      "Therefore the BLEU score evaluates to 0, independently of\n",
      "how many N-gram overlaps of lower order it contains.\n",
      "Consider using lower n-gram order or use SmoothingFunction()\n",
      "  warnings.warn(_msg)\n",
      "/jet/var/python/lib/python3.6/site-packages/nltk/translate/bleu_score.py:523: UserWarning: \n",
      "The hypothesis contains 0 counts of 9-gram overlaps.\n",
      "Therefore the BLEU score evaluates to 0, independently of\n",
      "how many N-gram overlaps of lower order it contains.\n",
      "Consider using lower n-gram order or use SmoothingFunction()\n",
      "  warnings.warn(_msg)\n"
     ]
    }
   ],
   "source": [
    "bleu_lstm0 = []\n",
    "bleu_lstm100 = []\n",
    "for i in range(1):\n",
    "    for j in range(10):\n",
    "        for k in range(10):\n",
    "            text_file = open(\"samples/result_epoch2{}{}_batch{}00.txt\".format(j, k, i), \"r\")\n",
    "            lines = text_file.readlines()\n",
    "            lstm_pred = str(lines[0]).split()\n",
    "            if i==0:\n",
    "                bleu_lstm0.append(sentence_bleu([ref[i] for i in range(len(ref))], lstm_pred, weights=(0, 1/12, 1/12, 1/6, 1/6, 1/6, 1/6, 1/12, 1/12)))\n",
    "            else:\n",
    "                 bleu_lstm100.append(sentence_bleu([ref[i] for i in range(len(ref))], lstm_pred, weights=(0, 1/12, 1/12, 1/6, 1/6, 1/6, 1/6, 1/12, 1/12)))"
   ]
  },
  {
   "cell_type": "code",
   "execution_count": 8,
   "metadata": {},
   "outputs": [],
   "source": [
    "text_file = open(\"gpt_samples/sample11.txt\", \"r\")\n",
    "lines = text_file.readlines()\n",
    "gpt_pred = str(lines[0]).split()"
   ]
  },
  {
   "cell_type": "code",
   "execution_count": null,
   "metadata": {},
   "outputs": [],
   "source": [
    "print('Cumulative 1-gram: %f' % sentence_bleu([ref for i in range(len(ref0))], gpt_pred, weights=(1, 0, 0, 0)))\n",
    "print('Cumulative 2-gram: %f' % sentence_bleu([ref for i in range(len(ref0))], gpt_pred, weights=(0.5, 0.5, 0, 0)))\n",
    "print('Cumulative 3-gram: %f' % sentence_bleu([ref for i in range(len(ref0))], gpt_pred, weights=(0.33, 0.33, 0.33, 0)))\n",
    "print('Cumulative 4-gram: %f' % sentence_bleu([ref for i in range(len(ref0))], gpt_pred, weights=(0.25, 0.25, 0.25, 0.25)))\n",
    "print('Cumulative 5-gram: %f' % sentence_bleu([ref for i in range(len(ref0))], gpt_pred, weights=(1/5, 1/5, 1/5, 1/5, 1/5)))\n",
    "print('Cumulative 6-gram: %f' % sentence_bleu([ref for i in range(len(ref0))], gpt_pred, weights=(1/6, 1/6, 1/6, 1/6, 1/6, 1/6)))\n",
    "print('Cumulative 7-gram: %f' % sentence_bleu([ref for i in range(len(ref0))], gpt_pred, weights=(1/7, 1/7, 1/7, 1/7, 1/7, 1/7, 1/7)))\n",
    "print('Cumulative 8-gram: %f' % sentence_bleu([ref for i in range(len(ref0))], gpt_pred, weights=(1/8, 1/8, 1/8, 1/8, 1/8, 1/8, 1/8, 1/8)))\n",
    "print('Cumulative 9-gram: %f' % sentence_bleu([ref for i in range(len(ref0))], gpt_pred, weights=(1/9, 1/9, 1/9, 1/9, 1/9, 1/9, 1/9, 1/9, 1/9)))"
   ]
  },
  {
   "cell_type": "code",
   "execution_count": 68,
   "metadata": {},
   "outputs": [],
   "source": [
    "import zipfile\n",
    "path_to_zip_file = 'samples.zip'\n",
    "zip_ref = zipfile.ZipFile(path_to_zip_file, 'r')\n",
    "zip_ref.extractall()\n",
    "zip_ref.close()"
   ]
  },
  {
   "cell_type": "markdown",
   "metadata": {},
   "source": [
    "GPT gener"
   ]
  }
 ],
 "metadata": {
  "kernelspec": {
   "display_name": "Python 3",
   "language": "python",
   "name": "python3"
  },
  "language_info": {
   "codemirror_mode": {
    "name": "ipython",
    "version": 3
   },
   "file_extension": ".py",
   "mimetype": "text/x-python",
   "name": "python",
   "nbconvert_exporter": "python",
   "pygments_lexer": "ipython3",
   "version": "3.6.3"
  }
 },
 "nbformat": 4,
 "nbformat_minor": 2
}
